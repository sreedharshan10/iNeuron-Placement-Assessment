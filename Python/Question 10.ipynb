{
 "cells": [
  {
   "cell_type": "markdown",
   "id": "163486b0",
   "metadata": {},
   "source": [
    "# Question 10 -\n",
    "Write a program to count the number of verbs, nouns, pronouns, and adjectives in a given particular phrase or\n",
    "paragraph, and return their respective count as a dictionary.\n",
    "Note -\n",
    "1. Write code comments wherever required for code\n",
    "2. You have to write at least 2 additional test cases in which your program will run successfully and provide\n",
    "an explanation for the same"
   ]
  },
  {
   "cell_type": "code",
   "execution_count": 5,
   "id": "af3986b0",
   "metadata": {},
   "outputs": [
    {
     "name": "stdout",
     "output_type": "stream",
     "text": [
      "{'Verbs': 4, 'Nouns': 4, 'Pronouns': 0, 'Adjectives': 0}\n",
      "{'Verbs': 12, 'Nouns': 13, 'Pronouns': 5, 'Adjectives': 0}\n"
     ]
    }
   ],
   "source": [
    "import re\n",
    "\n",
    "def count_pos_tags(text):\n",
    "    # Count verbs\n",
    "    verbs = re.findall(r'\\b\\w+ing\\b|\\b\\w+ed\\b|\\b\\w+s\\b', text)\n",
    "    verb_count = len(verbs)\n",
    "    \n",
    "    # Count nouns\n",
    "    nouns = re.findall(r'\\b\\w+s\\b|\\b\\w+[^inged]s\\b|\\b\\w+[^ing]ing\\b|\\b\\w+ed\\b', text)\n",
    "    noun_count = len(nouns)\n",
    "    \n",
    "    # Count pronouns\n",
    "    pronouns = re.findall(r'\\b(?:he|she|it|they|we|you|I|me|him|her|us|them)\\b', text, re.IGNORECASE)\n",
    "    pronoun_count = len(pronouns)\n",
    "    \n",
    "    # Count adjectives\n",
    "    adjectives = re.findall(r'\\b\\w+ful\\b|\\b\\w+ous\\b|\\b\\w+ish\\b|\\b\\w+ive\\b', text)\n",
    "    adjective_count = len(adjectives)\n",
    "    \n",
    "    # Create a dictionary with the counts\n",
    "    pos_counts = {\n",
    "        'Verbs': verb_count,\n",
    "        'Nouns': noun_count,\n",
    "        'Pronouns': pronoun_count,\n",
    "        'Adjectives': adjective_count\n",
    "    }\n",
    "    \n",
    "    return pos_counts\n",
    "\n",
    "# Test case 1: Counting POS tags in a phrase\n",
    "phrase = \"Mary and Samantha arrived at the bus station early but waited until noon for the bus.\"\n",
    "result1 = count_pos_tags(phrase)\n",
    "print(result1)\n",
    "\n",
    "# Test case 2: Counting POS tags in a paragraph\n",
    "paragraph = \"She gracefully danced across the stage, her vibrant dress swirling with each twirl. The audience watched in awe as her nimble movements captivated their attention. Her radiant smile illuminated the room, spreading joy to everyone who witnessed her performance. The ballerina's elegance and talent left an indelible impression on the hearts of those in attendance.\"\n",
    "result2 = count_pos_tags(paragraph)\n",
    "print(result2)"
   ]
  },
  {
   "cell_type": "code",
   "execution_count": null,
   "id": "baacdd77",
   "metadata": {},
   "outputs": [],
   "source": []
  }
 ],
 "metadata": {
  "kernelspec": {
   "display_name": "Python 3 (ipykernel)",
   "language": "python",
   "name": "python3"
  },
  "language_info": {
   "codemirror_mode": {
    "name": "ipython",
    "version": 3
   },
   "file_extension": ".py",
   "mimetype": "text/x-python",
   "name": "python",
   "nbconvert_exporter": "python",
   "pygments_lexer": "ipython3",
   "version": "3.10.9"
  }
 },
 "nbformat": 4,
 "nbformat_minor": 5
}
