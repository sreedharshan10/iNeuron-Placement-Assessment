{
 "cells": [
  {
   "cell_type": "markdown",
   "id": "c3e60c15",
   "metadata": {},
   "source": [
    "### Question 2: -\n",
    "Consider a string to be valid if all characters of the string appear the same number of times. It is also valid if\n",
    "he can remove just one character at the index in the string, and the remaining characters will occur the same\n",
    "number of times. Given a string, determine if it is valid. If so, return YES , otherwise return NO .\n",
    "Note - You have to write at least 2 additional test cases in which your program will run successfully and provide\n",
    "an explanation for the same.\n",
    "Example input 1 - s = “abc”. This is a valid string because frequencies are { “a”: 1, “b”: 1, “c”: 1 }\n",
    "Example output 1- YES\n",
    "Example input 2 - s “abcc”. This string is not valid as we can remove only 1 occurrence of “c”. That leaves\n",
    "character frequencies of { “a”: 1, “b”: 1 , “c”: 2 }\n",
    "Example output 2 - NO"
   ]
  },
  {
   "cell_type": "code",
   "execution_count": 7,
   "id": "0aabffad",
   "metadata": {},
   "outputs": [],
   "source": [
    "from collections import Counter\n",
    "def freq(s):\n",
    "    count_frequency = Counter(s)\n",
    "    \n",
    "    #Find The frequency\n",
    "    frequency = set(count_frequency.values())\n",
    "    \n",
    "    # If all frequencies are the same, the string is valid\n",
    "    if len(frequency) == 1:\n",
    "        return \"Yes\"\n",
    "    \n",
    "    else:\n",
    "        return \"No\""
   ]
  },
  {
   "cell_type": "code",
   "execution_count": 8,
   "id": "a1464617",
   "metadata": {},
   "outputs": [
    {
     "data": {
      "text/plain": [
       "'Yes'"
      ]
     },
     "execution_count": 8,
     "metadata": {},
     "output_type": "execute_result"
    }
   ],
   "source": [
    "#1\n",
    "freq(\"ababab\")"
   ]
  },
  {
   "cell_type": "code",
   "execution_count": 9,
   "id": "bc22778d",
   "metadata": {},
   "outputs": [
    {
     "data": {
      "text/plain": [
       "'No'"
      ]
     },
     "execution_count": 9,
     "metadata": {},
     "output_type": "execute_result"
    }
   ],
   "source": [
    "#2\n",
    "freq(\"abcdabc\")"
   ]
  },
  {
   "cell_type": "markdown",
   "id": "62d00e22",
   "metadata": {},
   "source": [
    "Explanation. In #1 , the occurance of all the characters of the string are equal. \n",
    "But in #2 , the occurance of all the string are not equal."
   ]
  },
  {
   "cell_type": "code",
   "execution_count": null,
   "id": "69f0be58",
   "metadata": {},
   "outputs": [],
   "source": []
  }
 ],
 "metadata": {
  "kernelspec": {
   "display_name": "Python 3 (ipykernel)",
   "language": "python",
   "name": "python3"
  },
  "language_info": {
   "codemirror_mode": {
    "name": "ipython",
    "version": 3
   },
   "file_extension": ".py",
   "mimetype": "text/x-python",
   "name": "python",
   "nbconvert_exporter": "python",
   "pygments_lexer": "ipython3",
   "version": "3.10.9"
  }
 },
 "nbformat": 4,
 "nbformat_minor": 5
}
