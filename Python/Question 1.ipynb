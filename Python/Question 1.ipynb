{
 "cells": [
  {
   "cell_type": "markdown",
   "id": "564424e6",
   "metadata": {},
   "source": [
    "## Python Assignment"
   ]
  },
  {
   "cell_type": "markdown",
   "id": "819b35df",
   "metadata": {},
   "source": [
    "### Question 1: -\n",
    "Write a program that takes a string as input, and counts the frequency of each word in the string, there might\n",
    "be repeated characters in the string. Your task is to find the highest frequency and returns the length of the\n",
    "highest-frequency word.\n",
    "Note - You have to write at least 2 additional test cases in which your program will run successfully and provide\n",
    "an explanation for the same.\n",
    "Example input - string = “write write write all the number from from from 1 to 100”\n",
    "Example output - 5\n",
    "Explanation - From the given string we can note that the most frequent words are “write” and “from” and\n",
    "the maximum value of both the values is “write” and its corresponding length is 5"
   ]
  },
  {
   "cell_type": "code",
   "execution_count": 9,
   "id": "4690e326",
   "metadata": {},
   "outputs": [],
   "source": [
    "def high_freq(string):\n",
    "    # Split the string into words\n",
    "    words = string.split()\n",
    "    \n",
    "    #Create the dict to store words\n",
    "    word_frequency = {}\n",
    "    \n",
    "    # Count the frequency of each word\n",
    "    for i in words:\n",
    "        if i in word_frequency:\n",
    "            word_frequency[i] += 1\n",
    "        else:\n",
    "            word_frequency[i] = 1\n",
    "            \n",
    "    #find the max frequency\n",
    "    max_frequency = max(word_frequency.values())\n",
    "    \n",
    "    #find length\n",
    "    \n",
    "    for i,j in word_frequency.items():\n",
    "        if j == max_frequency:\n",
    "            return len(i)  "
   ]
  },
  {
   "cell_type": "code",
   "execution_count": 10,
   "id": "2fe3c555",
   "metadata": {},
   "outputs": [
    {
     "data": {
      "text/plain": [
       "7"
      ]
     },
     "execution_count": 10,
     "metadata": {},
     "output_type": "execute_result"
    }
   ],
   "source": [
    "#testcase1\n",
    "high_freq(\"karthik is a good boy. karthik is intelligent. karthik was named as karthik by karthik\")"
   ]
  },
  {
   "cell_type": "markdown",
   "id": "44d9b333",
   "metadata": {},
   "source": [
    "testcase1\n",
    "Explanation: The word \"Karthik\" has occured maximum no. of times and its length is 7."
   ]
  },
  {
   "cell_type": "code",
   "execution_count": 11,
   "id": "4523f8d2",
   "metadata": {},
   "outputs": [
    {
     "data": {
      "text/plain": [
       "5"
      ]
     },
     "execution_count": 11,
     "metadata": {},
     "output_type": "execute_result"
    }
   ],
   "source": [
    "#testcase2\n",
    "high_freq(\"Fear leads to anger; anger leads to hatred; hatred leads to conflict; conflict leads to suffering.\")"
   ]
  },
  {
   "cell_type": "code",
   "execution_count": null,
   "id": "2b4516f8",
   "metadata": {},
   "outputs": [],
   "source": []
  }
 ],
 "metadata": {
  "kernelspec": {
   "display_name": "Python 3 (ipykernel)",
   "language": "python",
   "name": "python3"
  },
  "language_info": {
   "codemirror_mode": {
    "name": "ipython",
    "version": 3
   },
   "file_extension": ".py",
   "mimetype": "text/x-python",
   "name": "python",
   "nbconvert_exporter": "python",
   "pygments_lexer": "ipython3",
   "version": "3.10.9"
  }
 },
 "nbformat": 4,
 "nbformat_minor": 5
}
