{
 "cells": [
  {
   "cell_type": "markdown",
   "id": "2dac3e8d",
   "metadata": {},
   "source": [
    "## Question 3: -\n",
    "Write a program, which would download the data from the provided link, and then read the data and convert\n",
    "that into properly structured data and return it in Excel format.\n",
    "Note - Write comments wherever necessary explaining the code written\n",
    "\n",
    "Link - https://raw.githubusercontent.com/Biuni/PokemonGO-Pokedex/master/pokedex.json\n",
    "Data Attributes - id: Identification Number - int num: Number of the\n",
    "● Pokémon in the official Pokédex - int name: Pokémon name -\n",
    "● string img: URL to an image of this Pokémon - string type:\n",
    "● Pokémon type -string height: Pokémon height - float\n",
    "● weight: Pokémon weight - float candy: type of candy used to evolve Pokémon or\n",
    "given\n",
    "● when transferred - string candy_count: the amount of candies required to evolve\n",
    "- int\n",
    "● egg: Number of kilometers to travel to hatch the egg - float spawn_chance:\n",
    "● Percentage of spawn chance (NEW) - float avg_spawns: Number of this\n",
    "pokemon on 10.000 spawns (NEW) - int\n",
    "● spawn_time: Spawns most active at the time on this field. Spawn times are the same for all\n",
    "time zones and are expressed in local time. (NEW) - “minutes: seconds” multipliers:\n",
    "Multiplier of Combat Power (CP) for calculating the CP after evolution See below - list of int\n",
    "weakness: Types of\n",
    "● Pokémon this Pokémon is weak to - list of strings next_evolution: Number and Name of\n",
    "successive evolutions of Pokémon - list of dict prev_evolution: Number and Name of previous\n",
    "evolutions of Pokémon - - list of dict"
   ]
  },
  {
   "cell_type": "markdown",
   "id": "265faf67",
   "metadata": {},
   "source": [
    "### Note: I couldn't access https://raw.githubusercontent.com/Biuni/PokemonGO-Pokedex/master/pokedex.json . So, I downloaded the file and imported it"
   ]
  },
  {
   "cell_type": "code",
   "execution_count": 5,
   "id": "13c60133",
   "metadata": {},
   "outputs": [
    {
     "name": "stdout",
     "output_type": "stream",
     "text": [
      "Conversion to CSV completed!\n"
     ]
    }
   ],
   "source": [
    "import json\n",
    "import csv\n",
    "\n",
    "def read_data(filename):\n",
    "    with open(filename, 'r') as file:\n",
    "        data = json.load(file)\n",
    "    return data\n",
    "\n",
    "def convert_to_csv(data):\n",
    "    csv_data = []  # List to hold the CSV data\n",
    "\n",
    "    # Iterate over each Pokemon in the data\n",
    "    for pokemon in data['pokemon']:\n",
    "        csv_row = []  # List to hold the attributes of each Pokemon\n",
    "\n",
    "        # Extract relevant attributes from the Pokemon object\n",
    "        csv_row.append(pokemon.get('id', ''))\n",
    "        csv_row.append(pokemon.get('num', ''))\n",
    "        csv_row.append(pokemon.get('name', ''))\n",
    "        csv_row.append(pokemon.get('img', ''))\n",
    "        csv_row.append(pokemon.get('type', ''))\n",
    "        csv_row.append(pokemon.get('height', ''))\n",
    "        csv_row.append(pokemon.get('weight', ''))\n",
    "        csv_row.append(pokemon.get('candy', ''))\n",
    "        csv_row.append(pokemon.get('candy_count', ''))\n",
    "        csv_row.append(pokemon.get('egg', ''))\n",
    "        csv_row.append(pokemon.get('spawn_chance', ''))\n",
    "        csv_row.append(pokemon.get('avg_spawns', ''))\n",
    "        csv_row.append(pokemon.get('spawn_time', ''))\n",
    "        csv_row.append(\", \".join(pokemon.get('weaknesses', [])))\n",
    "\n",
    "        next_evolution = [f\"{evo.get('num', '')}: {evo.get('name', '')}\" for evo in pokemon.get('next_evolution', [])]\n",
    "        csv_row.append(\", \".join(next_evolution))\n",
    "\n",
    "        prev_evolution = [f\"{evo.get('num', '')}: {evo.get('name', '')}\" for evo in pokemon.get('prev_evolution', [])]\n",
    "        csv_row.append(\", \".join(prev_evolution))\n",
    "\n",
    "        csv_data.append(csv_row)  # Add the Pokemon's attributes to the CSV data list\n",
    "\n",
    "    return csv_data\n",
    "\n",
    "def write_csv(filename, csv_data):\n",
    "    with open(filename, 'w', newline='') as csvfile:\n",
    "        writer = csv.writer(csvfile)\n",
    "        writer.writerow(['ID', 'Number', 'Name', 'Image', 'Type', 'Height', 'Weight', 'Candy',\n",
    "                         'Candy Count', 'Egg', 'Spawn Chance', 'Average Spawns', 'Spawn Time',\n",
    "                         'Weakness', 'Next Evolution', 'Previous Evolution'])\n",
    "        writer.writerows(csv_data)\n",
    "\n",
    "    print(\"Conversion to CSV completed!\")\n",
    "\n",
    "# Main program\n",
    "data = read_data('pokedex.json')\n",
    "csv_data = convert_to_csv(data)\n",
    "write_csv('pokedex.csv', csv_data)"
   ]
  },
  {
   "cell_type": "code",
   "execution_count": null,
   "id": "7d92bec2",
   "metadata": {},
   "outputs": [],
   "source": []
  }
 ],
 "metadata": {
  "kernelspec": {
   "display_name": "Python 3 (ipykernel)",
   "language": "python",
   "name": "python3"
  },
  "language_info": {
   "codemirror_mode": {
    "name": "ipython",
    "version": 3
   },
   "file_extension": ".py",
   "mimetype": "text/x-python",
   "name": "python",
   "nbconvert_exporter": "python",
   "pygments_lexer": "ipython3",
   "version": "3.10.9"
  }
 },
 "nbformat": 4,
 "nbformat_minor": 5
}
